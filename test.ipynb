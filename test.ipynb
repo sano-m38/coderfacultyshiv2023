{
 "cells": [
  {
   "cell_type": "code",
   "execution_count": null,
   "metadata": {},
   "outputs": [],
   "source": [
    "# 1. The program should prompt the user to enter the number of subjects.\n",
    "# 2. Using a loop, ask the user to enter the marks for each subject.\n",
    "# 3. Calculate the total score by summing up all the marks.\n",
    "# 4. Based on the total score, determine the corresponding letter grade using the following criteria:\n",
    "#     - 90 or above: A\n",
    "#     - 80-89: B\n",
    "#     - 70-79: C\n",
    "#     - 60-69: D\n",
    "#     - Below 60: F\n",
    "# 5. Display the total score and the corresponding letter grade to the user as output.\n",
    "\n",
    "\n",
    "\n",
    "\n",
    "\n",
    "\n",
    "\n"
   ]
  },
  {
   "cell_type": "code",
   "execution_count": null,
   "metadata": {},
   "outputs": [],
   "source": [
    "# By adding labels to the end of each row, we basically created a new column. Name this column \"free_or_not\" by appending the string 'free_or_not' to the first row of the apps_data data set. Do this outside the for loop?\n",
    "# create a column \"free_or_not\" by appending the string 'free_or_not' to the first row of the apps_data data set?\n",
    "\n",
    "\n",
    "# apps_data.loc[0, 'free_or_not'] = 'free_or_not' explain ?\n",
    "# how to create a column by using the append method?\n",
    "# how to append 'free_or_not' to the first row of the apps_data ?\n",
    "\n",
    "\n",
    "# Print the header row and the first five rows?\n"
   ]
  }
 ],
 "metadata": {
  "kernelspec": {
   "display_name": "Python 3",
   "language": "python",
   "name": "python3"
  },
  "language_info": {
   "codemirror_mode": {
    "name": "ipython",
    "version": 3
   },
   "file_extension": ".py",
   "mimetype": "text/x-python",
   "name": "python",
   "nbconvert_exporter": "python",
   "pygments_lexer": "ipython3",
   "version": "3.10.11"
  },
  "orig_nbformat": 4
 },
 "nbformat": 4,
 "nbformat_minor": 2
}
