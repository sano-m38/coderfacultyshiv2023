{
 "cells": [
  {
   "cell_type": "code",
   "execution_count": null,
   "metadata": {},
   "outputs": [],
   "source": [
    "# 1. Use argparse module to handle command-line arguments and create a user-friendly command-line interface.\n",
    "#     An example is shown below:\n",
    "    \n",
    "# ```bash\n",
    "# $ python todo_manager.py register\n",
    "# Username: john_doe\n",
    "# Password: ********\n",
    "# Account created successfully!\n",
    "\n",
    "# $ python todo_manager.py login\n",
    "# Username: john_doe\n",
    "# Password: ********\n",
    "# Login successful!\n",
    "# ```\n",
    "\n",
    "# 1. Design a mechanism to handle password resets with strong security checks to ensure the agent's identity.\n",
    "# 2. Create a separate log file that records all user activities (e.g., login attempts, task updates) for auditing purposes, ensuring that this log file is also encrypted and accessible only to authorised personnel (implement authorisation_level attribute in the User class).\n",
    "\n",
    "# <aside>\n",
    "# ➡️ After developing the tool, you should upload it to github in a new repository.\n",
    "\n",
    "\n",
    "# create accrount\n",
    "# login\n",
    "# reset password\n",
    "# exit\n",
    "\n",
    "\n",
    "\n",
    "\n",
    "\n",
    "\n"
   ]
  }
 ],
 "metadata": {
  "kernelspec": {
   "display_name": "Python 3",
   "language": "python",
   "name": "python3"
  },
  "language_info": {
   "codemirror_mode": {
    "name": "ipython",
    "version": 3
   },
   "file_extension": ".py",
   "mimetype": "text/x-python",
   "name": "python",
   "nbconvert_exporter": "python",
   "pygments_lexer": "ipython3",
   "version": "3.10.11"
  },
  "orig_nbformat": 4
 },
 "nbformat": 4,
 "nbformat_minor": 2
}
